{
 "cells": [
  {
   "cell_type": "markdown",
   "metadata": {},
   "source": [
    "Instalando as bibliotecas:"
   ]
  },
  {
   "cell_type": "code",
   "execution_count": 59,
   "metadata": {},
   "outputs": [
    {
     "name": "stdout",
     "output_type": "stream",
     "text": [
      "Requirement already satisfied: pandas in c:\\users\\isabe\\appdata\\local\\programs\\python\\python38\\lib\\site-packages (1.5.1)\n",
      "Requirement already satisfied: pytz>=2020.1 in c:\\users\\isabe\\appdata\\local\\programs\\python\\python38\\lib\\site-packages (from pandas) (2022.4)\n",
      "Requirement already satisfied: numpy>=1.20.3 in c:\\users\\isabe\\appdata\\local\\programs\\python\\python38\\lib\\site-packages (from pandas) (1.23.3)\n",
      "Requirement already satisfied: python-dateutil>=2.8.1 in c:\\users\\isabe\\appdata\\local\\programs\\python\\python38\\lib\\site-packages (from pandas) (2.8.2)\n",
      "Requirement already satisfied: six>=1.5 in c:\\users\\isabe\\appdata\\local\\programs\\python\\python38\\lib\\site-packages (from python-dateutil>=2.8.1->pandas) (1.16.0)\n",
      "Requirement already satisfied: numpy in c:\\users\\isabe\\appdata\\local\\programs\\python\\python38\\lib\\site-packages (1.23.3)\n",
      "Requirement already satisfied: matplotlib in c:\\users\\isabe\\appdata\\local\\programs\\python\\python38\\lib\\site-packages (3.6.2)\n",
      "Requirement already satisfied: pyparsing>=2.2.1 in c:\\users\\isabe\\appdata\\local\\programs\\python\\python38\\lib\\site-packages (from matplotlib) (3.0.8)\n",
      "Requirement already satisfied: kiwisolver>=1.0.1 in c:\\users\\isabe\\appdata\\local\\programs\\python\\python38\\lib\\site-packages (from matplotlib) (1.4.4)\n",
      "Requirement already satisfied: fonttools>=4.22.0 in c:\\users\\isabe\\appdata\\local\\programs\\python\\python38\\lib\\site-packages (from matplotlib) (4.38.0)\n",
      "Requirement already satisfied: pillow>=6.2.0 in c:\\users\\isabe\\appdata\\local\\programs\\python\\python38\\lib\\site-packages (from matplotlib) (9.3.0)\n",
      "Requirement already satisfied: cycler>=0.10 in c:\\users\\isabe\\appdata\\local\\programs\\python\\python38\\lib\\site-packages (from matplotlib) (0.11.0)\n",
      "Requirement already satisfied: python-dateutil>=2.7 in c:\\users\\isabe\\appdata\\local\\programs\\python\\python38\\lib\\site-packages (from matplotlib) (2.8.2)\n",
      "Requirement already satisfied: packaging>=20.0 in c:\\users\\isabe\\appdata\\local\\programs\\python\\python38\\lib\\site-packages (from matplotlib) (21.3)\n",
      "Requirement already satisfied: contourpy>=1.0.1 in c:\\users\\isabe\\appdata\\local\\programs\\python\\python38\\lib\\site-packages (from matplotlib) (1.0.6)\n",
      "Requirement already satisfied: numpy>=1.19 in c:\\users\\isabe\\appdata\\local\\programs\\python\\python38\\lib\\site-packages (from matplotlib) (1.23.3)\n",
      "Requirement already satisfied: six>=1.5 in c:\\users\\isabe\\appdata\\local\\programs\\python\\python38\\lib\\site-packages (from python-dateutil>=2.7->matplotlib) (1.16.0)\n",
      "Requirement already satisfied: Seaborn in c:\\users\\isabe\\appdata\\local\\programs\\python\\python38\\lib\\site-packages (0.12.1)\n",
      "Requirement already satisfied: numpy>=1.17 in c:\\users\\isabe\\appdata\\local\\programs\\python\\python38\\lib\\site-packages (from Seaborn) (1.23.3)\n",
      "Requirement already satisfied: matplotlib!=3.6.1,>=3.1 in c:\\users\\isabe\\appdata\\local\\programs\\python\\python38\\lib\\site-packages (from Seaborn) (3.6.2)\n",
      "Requirement already satisfied: pandas>=0.25 in c:\\users\\isabe\\appdata\\local\\programs\\python\\python38\\lib\\site-packages (from Seaborn) (1.5.1)\n",
      "Requirement already satisfied: kiwisolver>=1.0.1 in c:\\users\\isabe\\appdata\\local\\programs\\python\\python38\\lib\\site-packages (from matplotlib!=3.6.1,>=3.1->Seaborn) (1.4.4)\n",
      "Requirement already satisfied: packaging>=20.0 in c:\\users\\isabe\\appdata\\local\\programs\\python\\python38\\lib\\site-packages (from matplotlib!=3.6.1,>=3.1->Seaborn) (21.3)\n",
      "Requirement already satisfied: cycler>=0.10 in c:\\users\\isabe\\appdata\\local\\programs\\python\\python38\\lib\\site-packages (from matplotlib!=3.6.1,>=3.1->Seaborn) (0.11.0)\n",
      "Requirement already satisfied: pyparsing>=2.2.1 in c:\\users\\isabe\\appdata\\local\\programs\\python\\python38\\lib\\site-packages (from matplotlib!=3.6.1,>=3.1->Seaborn) (3.0.8)\n",
      "Requirement already satisfied: python-dateutil>=2.7 in c:\\users\\isabe\\appdata\\local\\programs\\python\\python38\\lib\\site-packages (from matplotlib!=3.6.1,>=3.1->Seaborn) (2.8.2)\n",
      "Requirement already satisfied: pillow>=6.2.0 in c:\\users\\isabe\\appdata\\local\\programs\\python\\python38\\lib\\site-packages (from matplotlib!=3.6.1,>=3.1->Seaborn) (9.3.0)\n",
      "Requirement already satisfied: contourpy>=1.0.1 in c:\\users\\isabe\\appdata\\local\\programs\\python\\python38\\lib\\site-packages (from matplotlib!=3.6.1,>=3.1->Seaborn) (1.0.6)\n",
      "Requirement already satisfied: fonttools>=4.22.0 in c:\\users\\isabe\\appdata\\local\\programs\\python\\python38\\lib\\site-packages (from matplotlib!=3.6.1,>=3.1->Seaborn) (4.38.0)\n",
      "Requirement already satisfied: pytz>=2020.1 in c:\\users\\isabe\\appdata\\local\\programs\\python\\python38\\lib\\site-packages (from pandas>=0.25->Seaborn) (2022.4)\n",
      "Requirement already satisfied: six>=1.5 in c:\\users\\isabe\\appdata\\local\\programs\\python\\python38\\lib\\site-packages (from python-dateutil>=2.7->matplotlib!=3.6.1,>=3.1->Seaborn) (1.16.0)\n"
     ]
    }
   ],
   "source": [
    "!pip install pandas\n",
    "!pip install numpy\n",
    "!pip install matplotlib\n",
    "!pip install Seaborn\n"
   ]
  },
  {
   "cell_type": "code",
   "execution_count": 60,
   "metadata": {},
   "outputs": [
    {
     "name": "stdout",
     "output_type": "stream",
     "text": [
      "    DATA PEDIDO DATA ENTREGA                PRODUTO      MEIO  FALHAS  \\\n",
      "0      1/9/2004     5/1/2005         CONTAS A PAGAR      CNAB      11   \n",
      "1      1/9/2004   27/10/2004         CONTAS A PAGAR  INTERNET       8   \n",
      "2      9/9/2004    28/9/2004  COBRANÇA COM REGISTRO      CNAB       5   \n",
      "3     10/9/2004     2/1/2005  COBRANÇA COM REGISTRO      CNAB      16   \n",
      "4     13/9/2004    5/10/2004         CONTAS A PAGAR  INTERNET       5   \n",
      "..          ...          ...                    ...       ...     ...   \n",
      "845   31/5/2005    18/6/2005  COBRANÇA SEM REGISTRO  INTERNET       4   \n",
      "846   31/5/2005    24/7/2005  COBRANÇA COM REGISTRO      CNAB       8   \n",
      "847   31/5/2005    23/7/2005  COBRANÇA COM REGISTRO      CNAB       6   \n",
      "848   31/5/2005    12/7/2005  COBRANÇA COM REGISTRO      CNAB       5   \n",
      "849   31/5/2005    11/7/2005         CONTAS A PAGAR  INTERNET       5   \n",
      "\n",
      "       STATUS                     MOTIVO  Prazo  \n",
      "0    Desistiu          NÃO CUMPRIU PRAZO    126  \n",
      "1    Desistiu          NÃO CUMPRIU PRAZO     56  \n",
      "2    Operando                        NaN     19  \n",
      "3    Desistiu          NÃO CUMPRIU PRAZO    114  \n",
      "4    Operando                        NaN     22  \n",
      "..        ...                        ...    ...  \n",
      "845  Desistiu  FALTA ASSISTENCIA TECNICA     18  \n",
      "846  Operando                        NaN     54  \n",
      "847  Operando                        NaN     53  \n",
      "848  Operando                        NaN     42  \n",
      "849  Operando                        NaN     41  \n",
      "\n",
      "[850 rows x 8 columns]\n"
     ]
    },
    {
     "data": {
      "text/html": [
       "<div>\n",
       "<style scoped>\n",
       "    .dataframe tbody tr th:only-of-type {\n",
       "        vertical-align: middle;\n",
       "    }\n",
       "\n",
       "    .dataframe tbody tr th {\n",
       "        vertical-align: top;\n",
       "    }\n",
       "\n",
       "    .dataframe thead th {\n",
       "        text-align: right;\n",
       "    }\n",
       "</style>\n",
       "<table border=\"1\" class=\"dataframe\">\n",
       "  <thead>\n",
       "    <tr style=\"text-align: right;\">\n",
       "      <th></th>\n",
       "      <th>DATA PEDIDO</th>\n",
       "      <th>DATA ENTREGA</th>\n",
       "      <th>PRODUTO</th>\n",
       "      <th>MEIO</th>\n",
       "      <th>FALHAS</th>\n",
       "      <th>STATUS</th>\n",
       "      <th>MOTIVO</th>\n",
       "      <th>Prazo</th>\n",
       "    </tr>\n",
       "  </thead>\n",
       "  <tbody>\n",
       "    <tr>\n",
       "      <th>0</th>\n",
       "      <td>1/9/2004</td>\n",
       "      <td>5/1/2005</td>\n",
       "      <td>CONTAS A PAGAR</td>\n",
       "      <td>CNAB</td>\n",
       "      <td>11</td>\n",
       "      <td>Desistiu</td>\n",
       "      <td>NÃO CUMPRIU PRAZO</td>\n",
       "      <td>126</td>\n",
       "    </tr>\n",
       "    <tr>\n",
       "      <th>1</th>\n",
       "      <td>1/9/2004</td>\n",
       "      <td>27/10/2004</td>\n",
       "      <td>CONTAS A PAGAR</td>\n",
       "      <td>INTERNET</td>\n",
       "      <td>8</td>\n",
       "      <td>Desistiu</td>\n",
       "      <td>NÃO CUMPRIU PRAZO</td>\n",
       "      <td>56</td>\n",
       "    </tr>\n",
       "    <tr>\n",
       "      <th>2</th>\n",
       "      <td>9/9/2004</td>\n",
       "      <td>28/9/2004</td>\n",
       "      <td>COBRANÇA COM REGISTRO</td>\n",
       "      <td>CNAB</td>\n",
       "      <td>5</td>\n",
       "      <td>Operando</td>\n",
       "      <td>NaN</td>\n",
       "      <td>19</td>\n",
       "    </tr>\n",
       "    <tr>\n",
       "      <th>3</th>\n",
       "      <td>10/9/2004</td>\n",
       "      <td>2/1/2005</td>\n",
       "      <td>COBRANÇA COM REGISTRO</td>\n",
       "      <td>CNAB</td>\n",
       "      <td>16</td>\n",
       "      <td>Desistiu</td>\n",
       "      <td>NÃO CUMPRIU PRAZO</td>\n",
       "      <td>114</td>\n",
       "    </tr>\n",
       "    <tr>\n",
       "      <th>4</th>\n",
       "      <td>13/9/2004</td>\n",
       "      <td>5/10/2004</td>\n",
       "      <td>CONTAS A PAGAR</td>\n",
       "      <td>INTERNET</td>\n",
       "      <td>5</td>\n",
       "      <td>Operando</td>\n",
       "      <td>NaN</td>\n",
       "      <td>22</td>\n",
       "    </tr>\n",
       "  </tbody>\n",
       "</table>\n",
       "</div>"
      ],
      "text/plain": [
       "  DATA PEDIDO DATA ENTREGA                PRODUTO      MEIO  FALHAS    STATUS  \\\n",
       "0    1/9/2004     5/1/2005         CONTAS A PAGAR      CNAB      11  Desistiu   \n",
       "1    1/9/2004   27/10/2004         CONTAS A PAGAR  INTERNET       8  Desistiu   \n",
       "2    9/9/2004    28/9/2004  COBRANÇA COM REGISTRO      CNAB       5  Operando   \n",
       "3   10/9/2004     2/1/2005  COBRANÇA COM REGISTRO      CNAB      16  Desistiu   \n",
       "4   13/9/2004    5/10/2004         CONTAS A PAGAR  INTERNET       5  Operando   \n",
       "\n",
       "              MOTIVO  Prazo  \n",
       "0  NÃO CUMPRIU PRAZO    126  \n",
       "1  NÃO CUMPRIU PRAZO     56  \n",
       "2                NaN     19  \n",
       "3  NÃO CUMPRIU PRAZO    114  \n",
       "4                NaN     22  "
      ]
     },
     "execution_count": 60,
     "metadata": {},
     "output_type": "execute_result"
    }
   ],
   "source": [
    "import pandas as pd\n",
    "import numpy as np\n",
    "import matplotlib.pyplot as plt\n",
    "import seaborn as sns\n",
    "\n",
    "dataframe = pd.read_csv(\"..\\Analise\\Base de Dados .xlsx - Implantações.csv\")\n",
    "print(dataframe)\n",
    "dataframe.head()"
   ]
  },
  {
   "cell_type": "markdown",
   "metadata": {},
   "source": [
    "Análise dos dados"
   ]
  },
  {
   "cell_type": "markdown",
   "metadata": {},
   "source": [
    "Verificando se há dados ausentes:"
   ]
  },
  {
   "cell_type": "code",
   "execution_count": 61,
   "metadata": {},
   "outputs": [
    {
     "name": "stdout",
     "output_type": "stream",
     "text": [
      "DATA PEDIDO       0\n",
      "DATA ENTREGA      0\n",
      "PRODUTO           0\n",
      "MEIO              0\n",
      "FALHAS            0\n",
      "STATUS            0\n",
      "MOTIVO          454\n",
      "Prazo             0\n",
      "dtype: int64\n"
     ]
    }
   ],
   "source": [
    "dataframe_ausentes = dataframe.isnull().sum()\n",
    "print(dataframe_ausentes)"
   ]
  },
  {
   "cell_type": "markdown",
   "metadata": {},
   "source": [
    "2 - Transformando NaN em None, pois apenas a coluna de Motivo está com dados no formato de NaN, porém isso significa que não há informações sobre isso, então trocaremos todos por none:"
   ]
  },
  {
   "cell_type": "code",
   "execution_count": 62,
   "metadata": {},
   "outputs": [
    {
     "data": {
      "text/html": [
       "<div>\n",
       "<style scoped>\n",
       "    .dataframe tbody tr th:only-of-type {\n",
       "        vertical-align: middle;\n",
       "    }\n",
       "\n",
       "    .dataframe tbody tr th {\n",
       "        vertical-align: top;\n",
       "    }\n",
       "\n",
       "    .dataframe thead th {\n",
       "        text-align: right;\n",
       "    }\n",
       "</style>\n",
       "<table border=\"1\" class=\"dataframe\">\n",
       "  <thead>\n",
       "    <tr style=\"text-align: right;\">\n",
       "      <th></th>\n",
       "      <th>DATA PEDIDO</th>\n",
       "      <th>DATA ENTREGA</th>\n",
       "      <th>PRODUTO</th>\n",
       "      <th>MEIO</th>\n",
       "      <th>FALHAS</th>\n",
       "      <th>STATUS</th>\n",
       "      <th>MOTIVO</th>\n",
       "      <th>Prazo</th>\n",
       "    </tr>\n",
       "  </thead>\n",
       "  <tbody>\n",
       "    <tr>\n",
       "      <th>0</th>\n",
       "      <td>1/9/2004</td>\n",
       "      <td>5/1/2005</td>\n",
       "      <td>CONTAS A PAGAR</td>\n",
       "      <td>CNAB</td>\n",
       "      <td>11</td>\n",
       "      <td>Desistiu</td>\n",
       "      <td>NÃO CUMPRIU PRAZO</td>\n",
       "      <td>126</td>\n",
       "    </tr>\n",
       "    <tr>\n",
       "      <th>1</th>\n",
       "      <td>1/9/2004</td>\n",
       "      <td>27/10/2004</td>\n",
       "      <td>CONTAS A PAGAR</td>\n",
       "      <td>INTERNET</td>\n",
       "      <td>8</td>\n",
       "      <td>Desistiu</td>\n",
       "      <td>NÃO CUMPRIU PRAZO</td>\n",
       "      <td>56</td>\n",
       "    </tr>\n",
       "    <tr>\n",
       "      <th>2</th>\n",
       "      <td>9/9/2004</td>\n",
       "      <td>28/9/2004</td>\n",
       "      <td>COBRANÇA COM REGISTRO</td>\n",
       "      <td>CNAB</td>\n",
       "      <td>5</td>\n",
       "      <td>Operando</td>\n",
       "      <td>None</td>\n",
       "      <td>19</td>\n",
       "    </tr>\n",
       "    <tr>\n",
       "      <th>3</th>\n",
       "      <td>10/9/2004</td>\n",
       "      <td>2/1/2005</td>\n",
       "      <td>COBRANÇA COM REGISTRO</td>\n",
       "      <td>CNAB</td>\n",
       "      <td>16</td>\n",
       "      <td>Desistiu</td>\n",
       "      <td>NÃO CUMPRIU PRAZO</td>\n",
       "      <td>114</td>\n",
       "    </tr>\n",
       "    <tr>\n",
       "      <th>4</th>\n",
       "      <td>13/9/2004</td>\n",
       "      <td>5/10/2004</td>\n",
       "      <td>CONTAS A PAGAR</td>\n",
       "      <td>INTERNET</td>\n",
       "      <td>5</td>\n",
       "      <td>Operando</td>\n",
       "      <td>None</td>\n",
       "      <td>22</td>\n",
       "    </tr>\n",
       "  </tbody>\n",
       "</table>\n",
       "</div>"
      ],
      "text/plain": [
       "  DATA PEDIDO DATA ENTREGA                PRODUTO      MEIO  FALHAS    STATUS  \\\n",
       "0    1/9/2004     5/1/2005         CONTAS A PAGAR      CNAB      11  Desistiu   \n",
       "1    1/9/2004   27/10/2004         CONTAS A PAGAR  INTERNET       8  Desistiu   \n",
       "2    9/9/2004    28/9/2004  COBRANÇA COM REGISTRO      CNAB       5  Operando   \n",
       "3   10/9/2004     2/1/2005  COBRANÇA COM REGISTRO      CNAB      16  Desistiu   \n",
       "4   13/9/2004    5/10/2004         CONTAS A PAGAR  INTERNET       5  Operando   \n",
       "\n",
       "              MOTIVO  Prazo  \n",
       "0  NÃO CUMPRIU PRAZO    126  \n",
       "1  NÃO CUMPRIU PRAZO     56  \n",
       "2               None     19  \n",
       "3  NÃO CUMPRIU PRAZO    114  \n",
       "4               None     22  "
      ]
     },
     "execution_count": 62,
     "metadata": {},
     "output_type": "execute_result"
    }
   ],
   "source": [
    "for col in ('MOTIVO',):\n",
    "  dataframe[col] = dataframe[col].fillna('None')\n",
    "dataframe.head()"
   ]
  },
  {
   "cell_type": "markdown",
   "metadata": {},
   "source": [
    "Relação entre Tempo de atendimento e Número de falhas:\n",
    " "
   ]
  },
  {
   "cell_type": "code",
   "execution_count": 63,
   "metadata": {},
   "outputs": [
    {
     "data": {
      "text/plain": [
       "Index(['FALHAS', 'Prazo'], dtype='object')"
      ]
     },
     "execution_count": 63,
     "metadata": {},
     "output_type": "execute_result"
    }
   ],
   "source": [
    "numericas = dataframe.select_dtypes(include = [np.number])\n",
    "numericas.columns"
   ]
  },
  {
   "cell_type": "code",
   "execution_count": 64,
   "metadata": {},
   "outputs": [
    {
     "data": {
      "text/html": [
       "<div>\n",
       "<style scoped>\n",
       "    .dataframe tbody tr th:only-of-type {\n",
       "        vertical-align: middle;\n",
       "    }\n",
       "\n",
       "    .dataframe tbody tr th {\n",
       "        vertical-align: top;\n",
       "    }\n",
       "\n",
       "    .dataframe thead th {\n",
       "        text-align: right;\n",
       "    }\n",
       "</style>\n",
       "<table border=\"1\" class=\"dataframe\">\n",
       "  <thead>\n",
       "    <tr style=\"text-align: right;\">\n",
       "      <th></th>\n",
       "      <th>FALHAS</th>\n",
       "      <th>Prazo</th>\n",
       "    </tr>\n",
       "  </thead>\n",
       "  <tbody>\n",
       "    <tr>\n",
       "      <th>count</th>\n",
       "      <td>850.000000</td>\n",
       "      <td>850.000000</td>\n",
       "    </tr>\n",
       "    <tr>\n",
       "      <th>mean</th>\n",
       "      <td>6.421176</td>\n",
       "      <td>44.592941</td>\n",
       "    </tr>\n",
       "    <tr>\n",
       "      <th>std</th>\n",
       "      <td>2.340613</td>\n",
       "      <td>23.005329</td>\n",
       "    </tr>\n",
       "    <tr>\n",
       "      <th>min</th>\n",
       "      <td>1.000000</td>\n",
       "      <td>5.000000</td>\n",
       "    </tr>\n",
       "    <tr>\n",
       "      <th>25%</th>\n",
       "      <td>5.000000</td>\n",
       "      <td>27.000000</td>\n",
       "    </tr>\n",
       "    <tr>\n",
       "      <th>50%</th>\n",
       "      <td>6.000000</td>\n",
       "      <td>42.000000</td>\n",
       "    </tr>\n",
       "    <tr>\n",
       "      <th>75%</th>\n",
       "      <td>8.000000</td>\n",
       "      <td>57.000000</td>\n",
       "    </tr>\n",
       "    <tr>\n",
       "      <th>max</th>\n",
       "      <td>16.000000</td>\n",
       "      <td>133.000000</td>\n",
       "    </tr>\n",
       "  </tbody>\n",
       "</table>\n",
       "</div>"
      ],
      "text/plain": [
       "           FALHAS       Prazo\n",
       "count  850.000000  850.000000\n",
       "mean     6.421176   44.592941\n",
       "std      2.340613   23.005329\n",
       "min      1.000000    5.000000\n",
       "25%      5.000000   27.000000\n",
       "50%      6.000000   42.000000\n",
       "75%      8.000000   57.000000\n",
       "max     16.000000  133.000000"
      ]
     },
     "execution_count": 64,
     "metadata": {},
     "output_type": "execute_result"
    }
   ],
   "source": [
    "dataframe.describe()"
   ]
  },
  {
   "cell_type": "code",
   "execution_count": 65,
   "metadata": {},
   "outputs": [
    {
     "data": {
      "text/plain": [
       "<AxesSubplot: xlabel='FALHAS', ylabel='Prazo'>"
      ]
     },
     "execution_count": 65,
     "metadata": {},
     "output_type": "execute_result"
    },
    {
     "data": {
      "image/png": "[encoded data removed]",
      "text/plain": [
       "<Figure size 640x480 with 1 Axes>"
      ]
     },
     "metadata": {},
     "output_type": "display_data"
    }
   ],
   "source": [
    "sns.set_context('poster', font_scale = 1)\n",
    "sns.barplot(x = dataframe['FALHAS'], y = dataframe['Prazo'], errorbar=None)\n"
   ]
  },
  {
   "cell_type": "markdown",
   "metadata": {},
   "source": [
    "Essas duas features se mostrarm bastante relacionadas, ou seja, provavelmente quanto maior tempo, provavelmente mais  mais falhas."
   ]
  },
  {
   "cell_type": "markdown",
   "metadata": {},
   "source": [
    "Relação do tempo com meio:"
   ]
  },
  {
   "cell_type": "code",
   "execution_count": 66,
   "metadata": {},
   "outputs": [
    {
     "data": {
      "text/plain": [
       "<AxesSubplot: xlabel='Prazo', ylabel='MEIO'>"
      ]
     },
     "execution_count": 66,
     "metadata": {},
     "output_type": "execute_result"
    },
    {
     "data": {
      "image/png": "[encoded data removed]",
      "text/plain": [
       "<Figure size 640x480 with 1 Axes>"
      ]
     },
     "metadata": {},
     "output_type": "display_data"
    }
   ],
   "source": [
    "sns.set_context('poster', font_scale = 1)\n",
    "sns.barplot(x = dataframe['Prazo'], y = dataframe['MEIO'], errorbar=None)"
   ]
  },
  {
   "cell_type": "markdown",
   "metadata": {},
   "source": [
    "O meio se mostra importante, sendo a internet com menos tempo e menos falhas o que reafirma o primeiro gráfico.\n"
   ]
  },
  {
   "cell_type": "markdown",
   "metadata": {},
   "source": [
    "Relação do tempo com Status:\n"
   ]
  },
  {
   "cell_type": "code",
   "execution_count": 67,
   "metadata": {},
   "outputs": [
    {
     "data": {
      "text/plain": [
       "<AxesSubplot: xlabel='Prazo', ylabel='STATUS'>"
      ]
     },
     "execution_count": 67,
     "metadata": {},
     "output_type": "execute_result"
    },
    {
     "data": {
      "image/png": "[encoded data removed]",
      "text/plain": [
       "<Figure size 640x480 with 1 Axes>"
      ]
     },
     "metadata": {},
     "output_type": "display_data"
    }
   ],
   "source": [
    "sns.set_context('poster', font_scale = 1)\n",
    "sns.barplot(x = dataframe['Prazo'], y = dataframe['STATUS'], errorbar=None)\n"
   ]
  },
  {
   "cell_type": "markdown",
   "metadata": {},
   "source": [
    "O tempo em relação ao status se mostra importante, dado que quanto maior o tempo consequentemente maior taxa de de desistência."
   ]
  },
  {
   "cell_type": "markdown",
   "metadata": {},
   "source": [
    "Conclusão:\n",
    "O tempo é um valor determinante, e que para maior eficiência poderíamos realizar de forma mais ágil, para reduzir a taxa de desistência dos clientes.\n"
   ]
  }
 ],
 "metadata": {
  "kernelspec": {
   "display_name": "Python 3.8.0 64-bit",
   "language": "python",
   "name": "python3"
  },
  "language_info": {
   "codemirror_mode": {
    "name": "ipython",
    "version": 3
   },
   "file_extension": ".py",
   "mimetype": "text/x-python",
   "name": "python",
   "nbconvert_exporter": "python",
   "pygments_lexer": "ipython3",
   "version": "3.8.0"
  },
  "orig_nbformat": 4,
  "vscode": {
   "interpreter": {
    "hash": "f735c396396757ee14a2f96d87e026d8ff75a1cc493806c0b49dbd9eb2fc1b9a"
   }
  }
 },
 "nbformat": 4,
 "nbformat_minor": 2
}
